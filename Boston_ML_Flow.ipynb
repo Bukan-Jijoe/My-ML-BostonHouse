{
 "cells": [
  {
   "cell_type": "code",
   "execution_count": 41,
   "metadata": {},
   "outputs": [
    {
     "data": {
      "text/plain": [
       "'c:\\\\Users\\\\suhaimi\\\\Desktop\\\\Machine Learning Week 2\\\\Boston House'"
      ]
     },
     "execution_count": 41,
     "metadata": {},
     "output_type": "execute_result"
    }
   ],
   "source": [
    "# Step 1 : Check where your current working directory. This is very important\n",
    "import os\n",
    "\n",
    "# get current working directory\n",
    "os.getcwd() \n",
    "\n",
    "# if by any chance, the current working directory is not the correct one.\n",
    "# you can use os.chdir(r\"the working directory you want\") to change it\n"
   ]
  },
  {
   "cell_type": "code",
   "execution_count": 42,
   "metadata": {},
   "outputs": [],
   "source": [
    "# Step 2: Set up ML Flow Experiment\n",
    "# to import ML Flow\n",
    "import mlflow\n",
    "\n",
    "# to create experiment\n",
    "# mlflow.create_experiment(\"BostonHousing_Project\") # it can run only once, comment if already run once\n",
    "\n",
    "# to use the experiment / activate the experiment\n",
    "mlflow.set_experiment(\"BostonHousing_Project\")\n",
    "\n",
    "# set a tag for the experiment\n",
    "mlflow.set_experiment_tag(\"release.version\",\"2.16.2\")"
   ]
  },
  {
   "cell_type": "code",
   "execution_count": 43,
   "metadata": {},
   "outputs": [
    {
     "name": "stdout",
     "output_type": "stream",
     "text": [
      "<class 'pandas.core.frame.DataFrame'>\n",
      "RangeIndex: 506 entries, 0 to 505\n",
      "Data columns (total 14 columns):\n",
      " #   Column   Non-Null Count  Dtype  \n",
      "---  ------   --------------  -----  \n",
      " 0   CRIM     506 non-null    float64\n",
      " 1   ZN       506 non-null    float64\n",
      " 2   INDUS    506 non-null    float64\n",
      " 3   CHAS     506 non-null    int64  \n",
      " 4   NOX      506 non-null    float64\n",
      " 5   RM       506 non-null    float64\n",
      " 6   AGE      506 non-null    float64\n",
      " 7   DIS      506 non-null    float64\n",
      " 8   RAD      506 non-null    int64  \n",
      " 9   TAX      506 non-null    float64\n",
      " 10  PTRATIO  506 non-null    float64\n",
      " 11  B 1000   506 non-null    float64\n",
      " 12  LSTAT    506 non-null    float64\n",
      " 13  MEDV     506 non-null    float64\n",
      "dtypes: float64(12), int64(2)\n",
      "memory usage: 55.5 KB\n"
     ]
    },
    {
     "name": "stderr",
     "output_type": "stream",
     "text": [
      "C:\\Users\\suhaimi\\AppData\\Local\\Temp\\ipykernel_5292\\2931052965.py:12: FutureWarning: The 'delim_whitespace' keyword in pd.read_csv is deprecated and will be removed in a future version. Use ``sep='\\s+'`` instead\n",
      "  df = pd.read_csv('Dataset/housing.csv', delim_whitespace=(True) ,names=column_name)\n"
     ]
    }
   ],
   "source": [
    "# Step 3: Machine Learning Workflow\n",
    "import os\n",
    "import numpy as np\n",
    "import pandas as pd\n",
    "from sklearn.model_selection import train_test_split\n",
    "from sklearn.preprocessing import StandardScaler \n",
    "\n",
    "# Data Loading \n",
    "\n",
    "column_name = ['CRIM','ZN','INDUS','CHAS','NOX','RM','AGE','DIS','RAD','TAX','PTRATIO','B 1000','LSTAT','MEDV']\n",
    "\n",
    "df = pd.read_csv('Dataset/housing.csv', delim_whitespace=(True) ,names=column_name)\n",
    "df.info()\n",
    "df.describe()\n",
    "\n",
    "# Data Preprocessing\n",
    "\n",
    "X = df\n",
    "y = X.pop('MEDV')\n",
    "\n",
    "# train test split\n",
    "\n",
    "X_train, X_test, y_train, y_test = train_test_split(X,y, test_size=0.3, random_state=42)\n",
    "\n",
    "# Normalize our data (feature scaling)\n",
    "ss = StandardScaler()\n",
    "\n",
    "X_train = ss.fit_transform(X_train)\n",
    "X_test = ss.transform(X_test)\n",
    "\n",
    "y_train = y_train.values\n",
    "y_test = y_test.values"
   ]
  },
  {
   "cell_type": "code",
   "execution_count": 47,
   "metadata": {},
   "outputs": [],
   "source": [
    "# Step 4 Running Model Training with MLFlow\n",
    "\n",
    "# import machine learning packages\n",
    "from sklearn.linear_model import LinearRegression\n",
    "from sklearn.metrics import r2_score,mean_absolute_percentage_error,root_mean_squared_error\n",
    "\n",
    "# Start the MLFlow\n",
    "mlflow.start_run(run_name='LinearRegression n-2')\n",
    "\n",
    "# perform model training\n",
    "n_jobs = 2\n",
    "lr = LinearRegression(n_jobs=n_jobs)\n",
    "lr.fit(X_train,y_train)\n",
    "\n",
    "# calculate the score \n",
    "y_pred = lr.predict(X_test)\n",
    "r2 = r2_score(y_test,y_pred)\n",
    "MAE = mean_absolute_percentage_error(y_test,y_pred)\n",
    "RMSE = root_mean_squared_error(y_test,y_pred)\n",
    "\n",
    "# Log the score into MLFlow\n",
    "\n",
    "mlflow.log_metrics({\n",
    "    'R2 Score':r2,\n",
    "    'Mean Absolute Percentage Error':MAE,\n",
    "    'Root Mean Squared Error': RMSE\n",
    "})\n",
    "\n",
    "mlflow.log_param(\"n_jobs\", n_jobs)\n",
    "\n",
    "# End MLFlow run\n",
    "\n",
    "mlflow.end_run()\n"
   ]
  },
  {
   "cell_type": "code",
   "execution_count": 50,
   "metadata": {},
   "outputs": [],
   "source": [
    "# End MLFlow run\n",
    "\n",
    "mlflow.end_run()"
   ]
  },
  {
   "cell_type": "code",
   "execution_count": 48,
   "metadata": {},
   "outputs": [
    {
     "name": "stderr",
     "output_type": "stream",
     "text": [
      "2024/10/10 15:39:16 WARNING mlflow.models.model: Model logged without a signature and input example. Please set `input_example` parameter when logging the model to auto infer the model signature.\n",
      "Registered model 'sk-learn-lr-model' already exists. Creating a new version of this model...\n",
      "Created version '2' of model 'sk-learn-lr-model'.\n"
     ]
    },
    {
     "data": {
      "text/plain": [
       "<mlflow.models.model.ModelInfo at 0x2469c30cd60>"
      ]
     },
     "execution_count": 48,
     "metadata": {},
     "output_type": "execute_result"
    }
   ],
   "source": [
    "last_run = mlflow.last_active_run()\n",
    "last_run_id = last_run.info.run_id\n",
    "\n",
    "# save model\n",
    "mlflow.sklearn.log_model(\n",
    "    sk_model=lr,\n",
    "    artifact_path=\"sklearn-model\",\n",
    "    registered_model_name = \"sk-learn-lr-model\",\n",
    "\n",
    ")"
   ]
  },
  {
   "cell_type": "code",
   "execution_count": 51,
   "metadata": {},
   "outputs": [
    {
     "name": "stderr",
     "output_type": "stream",
     "text": [
      "2024/10/10 15:48:31 WARNING mlflow.utils.autologging_utils: MLflow sklearn autologging is known to be compatible with 0.24.1 <= scikit-learn <= 1.5.1, but the installed version is 1.5.2. If you encounter errors during autologging, try upgrading / downgrading scikit-learn to a compatible version, or try upgrading MLflow.\n"
     ]
    }
   ],
   "source": [
    "# Step 4 Advance\n",
    "\n",
    "# use mlflow to do autologging\n",
    "\n",
    "with mlflow.start_run() as run:\n",
    "\n",
    "    # to initiate autolog\n",
    "    mlflow.sklearn.autolog()\n",
    "\n",
    "    # perform model training\n",
    "    n_jobs = 4\n",
    "\n",
    "    lr = LinearRegression(n_jobs=n_jobs)\n",
    "    lr.fit(X_train,y_train)\n"
   ]
  },
  {
   "cell_type": "code",
   "execution_count": 52,
   "metadata": {},
   "outputs": [],
   "source": [
    "from sklearn.linear_model import Lasso,Ridge\n"
   ]
  },
  {
   "cell_type": "code",
   "execution_count": null,
   "metadata": {},
   "outputs": [],
   "source": [
    "# use ML Flow in your pipeline\n",
    "\n",
    "# create a model dictionary\n",
    "\n",
    "import mlflow.sklearn\n",
    "\n",
    "\n",
    "model_dict = {\"LinearRegression\": LinearRegression(), \"Lasso\":Lasso(), \"Ridge\":Ridge()}\n",
    "\n",
    "# create empty pipelines\n",
    "pipelines = []\n",
    "\n",
    "for model_name, mode_class in model_dict.items():\n",
    "    pipeline = Pipeline([\n",
    "        ('Scaler', StandardScaler()),\n",
    "        (model_name,mode_class)\n",
    "    ])\n",
    "    # push 'pipeline to your empty pipelines list\n",
    "    pipelines.append(pipeline)\n",
    "\n",
    "\n",
    "def train_evaluate(pipeline,X_train,y_train,X_test,y_test):\n",
    "    pipeline.fit(X_train,y_train)\n",
    "    y_pred = pipeline.predict(X_test)\n",
    "    r2 = pipeline.score(X_test,y_test)\n",
    "    MAE = mean_absolute_percentage_error(y_test,y_pred)\n",
    "    RMSE = root_mean_squared_error(y_test,y_pred)\n",
    "\n",
    "r2_list = []\n",
    "MAE_list = []\n",
    "RMSE_list = []\n",
    "\n",
    "for i,pipeline in enumerate(pipeline):\n",
    "    with mlflow.start_run(run_name=\" \"):\n",
    "        mlflow.sklearn.autolog()\n",
    "        print(\"Training and evaluating pipeline #\",i)\n",
    "        print(\"Steps:\", pipeline.steps)\n",
    "\n",
    "        r2, MAE, RMSE = train_evaluate(pipeline, X_train, y_train, X_test, y_test)\n",
    "        print(\"R2 Score:\", r2)\n",
    "        print(\"MAE: \", MAE)\n",
    "        print(\"RMSE:\", RMSE)\n",
    "\n",
    "        r2_list.append(r2)\n",
    "        MAE_list.append(MAE)\n",
    "        RMSE_list.append(RMSE)\n",
    "\n"
   ]
  }
 ],
 "metadata": {
  "kernelspec": {
   "display_name": "ypai09_new",
   "language": "python",
   "name": "python3"
  },
  "language_info": {
   "codemirror_mode": {
    "name": "ipython",
    "version": 3
   },
   "file_extension": ".py",
   "mimetype": "text/x-python",
   "name": "python",
   "nbconvert_exporter": "python",
   "pygments_lexer": "ipython3",
   "version": "3.10.14"
  }
 },
 "nbformat": 4,
 "nbformat_minor": 2
}
